{
 "cells": [
  {
   "cell_type": "markdown",
   "metadata": {},
   "source": [
    "## __LLM__"
   ]
  },
  {
   "cell_type": "markdown",
   "metadata": {},
   "source": [
    "We will be using HuggingFace llm"
   ]
  },
  {
   "cell_type": "code",
   "execution_count": null,
   "metadata": {},
   "outputs": [],
   "source": [
    "# import for the llm\n",
    "from langchain_community.llms import HuggingFaceEndpoint\n"
   ]
  },
  {
   "cell_type": "code",
   "execution_count": null,
   "metadata": {},
   "outputs": [],
   "source": [
    "# llm\n",
    "repo_id = \"mistralai/Mistral-7B-Instruct-v0.2\"\n",
    "hf_token = \"[YOUR_HUGGING_FACE_API_KEY]\"\n",
    "\n",
    "llm = HuggingFaceEndpoint(\n",
    "    repo_id=repo_id, huggingfacehub_api_token=hf_token\n",
    ")"
   ]
  },
  {
   "cell_type": "markdown",
   "metadata": {},
   "source": [
    "## __Tool__"
   ]
  },
  {
   "cell_type": "markdown",
   "metadata": {},
   "source": [
    "Google Serper SEARCH for searching on internet"
   ]
  },
  {
   "cell_type": "code",
   "execution_count": null,
   "metadata": {},
   "outputs": [],
   "source": [
    "# import\n",
    "from crewai_tools import SerperDevTool\n"
   ]
  },
  {
   "cell_type": "code",
   "execution_count": null,
   "metadata": {},
   "outputs": [],
   "source": [
    "# import\n",
    "from crewai_tools import SerperDevTool\n"
   ]
  },
  {
   "cell_type": "markdown",
   "metadata": {},
   "source": [
    "Tool for web scrapping"
   ]
  },
  {
   "cell_type": "code",
   "execution_count": null,
   "metadata": {},
   "outputs": [],
   "source": [
    "# import\n",
    "from crewai_tools import ScrapeWebsiteTool"
   ]
  },
  {
   "cell_type": "code",
   "execution_count": null,
   "metadata": {},
   "outputs": [],
   "source": [
    "# instancing\n",
    "scrap_tool = ScrapeWebsiteTool()"
   ]
  },
  {
   "cell_type": "markdown",
   "metadata": {},
   "source": [
    "__Agent__"
   ]
  },
  {
   "cell_type": "code",
   "execution_count": null,
   "metadata": {},
   "outputs": [],
   "source": [
    "# import\n",
    "from crewai import Agent"
   ]
  },
  {
   "cell_type": "code",
   "execution_count": null,
   "metadata": {},
   "outputs": [],
   "source": [
    "# find a dish\n",
    "dish_search_hunter = Agent(\n",
    "    role = \"Dish Searcher\",\n",
    "    goal = \"Your goal is to find the best dish that can be made from {provided items} using the search tool provided to you. Return the webpage url you have found.\",\n",
    "    backstory = \"You are a headchef in a multicusine restaurant. You own a 3 michelin star restaurant.You are a professional chef.\",\n",
    "    tool = search_tool,\n",
    "    llm = llm,\n",
    "    allow_delegation = False,\n",
    "\n",
    ")"
   ]
  },
  {
   "cell_type": "code",
   "execution_count": null,
   "metadata": {},
   "outputs": [],
   "source": [
    "# content writer\n",
    "content_writer = Agent(\n",
    "    role = \"Content Writer\",\n",
    "    goal = \"you write a content from the information from a webpage in simple words\",\n",
    "    backstory = \" you are good at comprehencing the content of a webpage and re-writing it in simple words\",\n",
    "    llm = llm,\n",
    "    allow_delegation = False,\n",
    "    max_iter = 5,\n",
    "    tool = scrap_tool\n",
    ")"
   ]
  },
  {
   "cell_type": "code",
   "execution_count": null,
   "metadata": {},
   "outputs": [],
   "source": [
    "# step maker\n",
    "step_maker = Agent(\n",
    "    role = \"Step writer\",\n",
    "    goal = \"You prepare a to-do list from a provided content according to the workflow to achieve the final result\",\n",
    "    backstory = \"You prepare very good to-do lists from a content\",\n",
    "    llm = llm,\n",
    "    allow_delegation = False,\n",
    "    max_iter = 5\n",
    ")"
   ]
  },
  {
   "cell_type": "markdown",
   "metadata": {},
   "source": [
    "__Task__"
   ]
  },
  {
   "cell_type": "code",
   "execution_count": null,
   "metadata": {},
   "outputs": [],
   "source": [
    "# import\n",
    "from crewai import Task"
   ]
  },
  {
   "cell_type": "code",
   "execution_count": null,
   "metadata": {},
   "outputs": [],
   "source": [
    "# dish finding\n",
    "dish_search_task = Task(\n",
    "    description = \"\"\"\n",
    "    Search in internet to get the best dish possible from {provided items}.\n",
    "    select the first result.\n",
    "    return the web-page url\"\"\",\n",
    "    expected_output = \"an url\",\n",
    "    agent = dish_search_hunter,\n",
    "    tool = search_tool.run,\n",
    "    async_execution = False\n",
    ")"
   ]
  },
  {
   "cell_type": "code",
   "execution_count": null,
   "metadata": {},
   "outputs": [],
   "source": [
    "# content write\n",
    "content_write_task = Task(\n",
    "    description = \"Read the content of the webpage. Write the content of the page in simple words\",\n",
    "    expected_output = \"a paragraph in simple words\",\n",
    "    agent = content_writer,\n",
    "    async_execution = False,\n",
    "    tool = scrap_tool\n",
    ")"
   ]
  },
  {
   "cell_type": "code",
   "execution_count": null,
   "metadata": {},
   "outputs": [],
   "source": [
    "# step write\n",
    "step_writer_task = Task(\n",
    "    description = \"rewrite the content in the form of to-do list in such a way that, following the to-do list from top to bottom will result the final product. Make sure you add the title of the content at the top of todo list as heading.\",\n",
    "    expected_output = \"a to-do list\",\n",
    "    agent = step_maker,\n",
    "    async_execution = False,\n",
    "    output_file = \"todo.md\"\n",
    ")"
   ]
  },
  {
   "cell_type": "markdown",
   "metadata": {},
   "source": [
    "## __Crew__"
   ]
  },
  {
   "cell_type": "markdown",
   "metadata": {},
   "source": [
    "Creating a crew object to run it"
   ]
  },
  {
   "cell_type": "code",
   "execution_count": null,
   "metadata": {},
   "outputs": [],
   "source": [
    "# import\n",
    "from crewai import Crew, Process"
   ]
  },
  {
   "cell_type": "code",
   "execution_count": null,
   "metadata": {},
   "outputs": [],
   "source": [
    "crew = Crew(\n",
    "    tasks = [dish_search_task,content_write_task,step_writer_task],\n",
    "    agents = [dish_search_hunter,content_writer, step_maker],\n",
    "    process = Process.sequential,\n",
    "\n",
    "    verbose = True\n",
    ")"
   ]
  },
  {
   "cell_type": "code",
   "execution_count": null,
   "metadata": {},
   "outputs": [],
   "source": [
    "def run_crew(ingredients : str):\n",
    "  crew.kickoff(inputs = {\"provided items\" : ingredients})"
   ]
  },
  {
   "cell_type": "code",
   "execution_count": null,
   "metadata": {},
   "outputs": [],
   "source": [
    "result = run_crew(str(input(\"Write the available ingredients you have\")))"
   ]
  }
 ],
 "metadata": {
  "language_info": {
   "name": "python"
  }
 },
 "nbformat": 4,
 "nbformat_minor": 2
}
